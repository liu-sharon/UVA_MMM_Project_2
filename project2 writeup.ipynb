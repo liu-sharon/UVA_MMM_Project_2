{
 "cells": [
  {
   "cell_type": "markdown",
   "metadata": {},
   "source": [
    "## Project 2: Causality between unemployment and home values"
   ]
  },
  {
   "cell_type": "markdown",
   "metadata": {},
   "source": [
    "Propose the model that can estimate a causal impact of unemployment on the housing price index that would take advantage of the \"great recession\" in 2008-2012 that affected both the housing prices and unemployment but at different moments in time. Provide arguments and empirical evidence of your model indeed measuring the causal impact.\"\n",
    "\n",
    "In this project, we will learn how to estimate the causual relationship between two events. In particular, we will use unemployment and housing price data during the 2008-2012 recession to try to estimate if there is a causual relationship between unemployment and housing prices, and if so in which direction."
   ]
  },
  {
   "cell_type": "markdown",
   "metadata": {},
   "source": [
    "### Downloading the data\n",
    "For this project, we will make use of US county-level housing price index data from Zillow, and American Census Survey (ACS) data from US Census Bureau.\n",
    "\n",
    "First, download the Zillow county-level housing data [from this link](http://files.zillowstatic.com/research/public/County.zip).\n",
    "\n",
    "Next, download the ACS data [from here](https://factfinder.census.gov/faces/tableservices/jsf/pages/productview.xhtml?pid=ACS_10_1YR_S0501&prodType=table). Once you visit the link, click on the \"Add/Remove Geographies\" link, then from the \"select a geographic type\" dropdown, select \"County - 050\". Then choose \"Select all counties within United States\", and click \"add to your selection\". Next, click \"show table\". Now, click on the \"Download\" link to save the data. This gives you data from 2010. You can choose other years by clicking on links towards the left of the webpage.\n",
    "\n",
    "Once you have download the two files above, extract them. The Zillow data has 100+ files (as you should know having done the first project), and you need to choose which files are relevant. On the other hand, the ACS data is contained in one large csv file which includes all the variables. \n",
    "\n",
    "### Merging the two datasets\n",
    "\n",
    "Your first task is to merge data from the two datasets based on county codes. Below we provide an example of how to do this merging for the `County_Zhvi_AllHomes.csv` file from the Zillow dataset and the `ACS_10_1YR_S0501_with_ann.csv` file from the ACS dataset.\n",
    "\n",
    "As with project 1, we will use `pandas` and `numpy` Python libraries."
   ]
  },
  {
   "cell_type": "code",
   "execution_count": 1,
   "metadata": {
    "collapsed": true
   },
   "outputs": [],
   "source": [
    "import pandas as pd\n",
    "import numpy as np\n",
    "import statsmodels.api as sm"
   ]
  },
  {
   "cell_type": "markdown",
   "metadata": {},
   "source": [
    "First load the two files you want to merge:"
   ]
  },
  {
   "cell_type": "code",
   "execution_count": 2,
   "metadata": {
    "collapsed": true
   },
   "outputs": [],
   "source": [
    "df_zhvi = pd.read_csv('County/County_Zhvi_AllHomes.csv', encoding='ISO-8859-1') # zillow zhvi data\n",
    "df_acs = pd.read_csv('ACS_10_1YR_S0501_with_ann.csv', encoding='ISO-8859-1') # acs data"
   ]
  },
  {
   "cell_type": "markdown",
   "metadata": {},
   "source": [
    "Before we can merge, we need to first combine the `StateCodeFIPS` and `MunicipalCodeFIPS` columns in the Zillow data. This is done as follows:"
   ]
  },
  {
   "cell_type": "code",
   "execution_count": 3,
   "metadata": {
    "collapsed": true
   },
   "outputs": [],
   "source": [
    "df_zhvi['StateCodeFIPS'] = df_zhvi['StateCodeFIPS'].apply(lambda x: str(x).zfill(2))\n",
    "df_zhvi['MunicipalCodeFIPS'] = df_zhvi['MunicipalCodeFIPS'].apply(lambda x: str(x).zfill(3))\n",
    "df_zhvi['FIPS'] = df_zhvi['StateCodeFIPS'] + df_zhvi['MunicipalCodeFIPS']"
   ]
  },
  {
   "cell_type": "markdown",
   "metadata": {},
   "source": [
    "Next, we rename the corresponding column in the ACS dataframe:"
   ]
  },
  {
   "cell_type": "code",
   "execution_count": 4,
   "metadata": {
    "collapsed": true
   },
   "outputs": [],
   "source": [
    "df_acs = df_acs.rename(columns={'GEO.id2': 'FIPS'})"
   ]
  },
  {
   "cell_type": "markdown",
   "metadata": {},
   "source": [
    "Now we merge the two dataframes:"
   ]
  },
  {
   "cell_type": "code",
   "execution_count": 5,
   "metadata": {
    "collapsed": true
   },
   "outputs": [],
   "source": [
    "df_merged = pd.merge(df_zhvi, df_acs, on=['FIPS']) # merge on FIPS code"
   ]
  },
  {
   "cell_type": "markdown",
   "metadata": {},
   "source": [
    "`df_merged` now contains a row for each county in the US, with all the variables from both Zillow and ACS datasets. If you want to use multi-year data from ACS, you merge multiple files in the same way as above (you may need to rename the column names, but it shouldn't be hard)."
   ]
  },
  {
   "cell_type": "markdown",
   "metadata": {},
   "source": [
    "### Establishing causality between home values and unemployment\n",
    "\n",
    "With the above data at hand, try to establish a casual link between home values and umemployment. The data available range from 2006 through 2017, however you should focus on the period known as the Great Recession. During this time, the volatile state of the economy generated considerable variation in housing prices and unemployment levels across the United States. Using this variation, you should attempt to identify a causal link between these two variables. Many demographic controls are available in the ACS data that you should consider including in your model. Your task is to determine the direction of causality."
   ]
  },
  {
   "cell_type": "markdown",
   "metadata": {},
   "source": [
    "<div class=\"alert alert-block alert-warning\">\n",
    "Q1: Propose an empirical model that relates the housing price index (ZHVI) and unemployment. Argue if this model can be used for causal inference (recall that dependence between two variables can be induced by common factors shifting them rather than actual dependence).\n",
    "</div>"
   ]
  },
  {
   "cell_type": "markdown",
   "metadata": {},
   "source": [
    "<div class=\"alert alert-block alert-info\"> Our empirical model states that housing price index is a factor in determining unemployment. Lower housing prices in a given county will lead to lower wealth for homeowners. Houses, as an asset, make up a dominant component of wealth for the majority of households in the United States. This would mean that lower housing prices would lead to a dramatic decrease in wealth for homeowners. This decrease in wealth will lead to lower consumption spending. This decrease in consumption spending will lead to the local economies lagging, which therefore lead to an increase in unemployment.\n",
    "    This model, however, cannot be used for causal inference. Regressing unemployment as an outcome of housing price index would lead to biased coefficients and a false estimation of the true impact of housing price index on unemployment. The largest problem we would face if we ran this over-simplified regression would be that there is not random assignment for treatment and control groups. Typically, higher or lower housing prices are not randomly assigned, so there is the problem of endogeneity, and more specifically, omitted variable bias. There are a number of factors not included in that regression that would influence both housing prices and unemployment if we did not have random assignment. For example, poverty level, the general state of the economy (boom-bust cycle), and crime in a given county are all factors that would influence both housing prices and unemployment. However, these will be controlled for if we have random assignment.\n",
    "</div>"
   ]
  },
  {
   "cell_type": "markdown",
   "metadata": {},
   "source": [
    "<div class=\"alert alert-block alert-warning\">\n",
    "Q2: Propose an empirical strategy that will allow you to estimate causal impact of unemployment on the housing price by using variation in unemployment and the housing prices that was induced by the \"great recesssion\". Provide an arguement as to why your model is indentified and discuss any potential potential limitations.\n",
    "</div>"
   ]
  },
  {
   "cell_type": "markdown",
   "metadata": {},
   "source": [
    "<div class=\"alert alert-block alert-info\">\n",
    "The empirical strategy we will utilize is making use of the burst of the housing market bubble in 2008. We will be using a treatment effects design, with the control group being before the burst of the housing market bubble (data from 2006 - 2007) and the treatment group being after the burst of the housing market bubble (data from 2008 - 2010). \n",
    "    When the housing market and housing prices collapsed in 2008, there was an extreme negative wealth effect on consumers, which lead to an inability to borrow. Since consumers are unable to borrow, there will be an inward shift of the investment supply curve. This will lead to an inward shift of the aggregate demand curve, due to the change in income. Ultimately, Y (output) and P (price) will decline as the market moves back towards equilibrium. As Y falls, the number of jobs will fall at the same time - if the economy is outputting less, there are fewer jobs. Therefore, this drop in output will ultimately lead to higher unemployment. We now have a quasi-random assignment of a change in housing prices, by comparing before vs. after the burst of the housing bubble.\n",
    "</div>"
   ]
  },
  {
   "cell_type": "code",
   "execution_count": null,
   "metadata": {},
   "outputs": [],
   "source": [
    "import pandas as pd\n",
    "import numpy as np\n",
    "import statsmodels.api as sm\n",
    "\n",
    "#Pre-Treatment Years\n",
    "df_acs_06 = pd.read_csv('ACS_06_EST_S0501_with_ann.csv', encoding='ISO-8859-1')\n",
    "df_acs_06.drop(df_acs_06.index[0], inplace=True)\n",
    "df_acs_06 = df_acs_06.add_suffix('_2006')\n",
    "\n",
    "\n",
    "df_acs_06.drop(['GEO.id_2006','GEO.display-label_2006'], axis = 1, inplace = True)\n",
    "\n",
    "\n",
    "df_acs_07 = pd.read_csv('ACS_07_1YR_S0501_with_ann.csv', encoding='ISO-8859-1')\n",
    "df_acs_07.drop(df_acs_07.index[0], inplace=True)\n",
    "df_acs_07 = df_acs_07.add_suffix('_2007')\n",
    "\n",
    "df_acs_07.drop(['GEO.id_2007','GEO.display-label_2007'], axis = 1, inplace = True)\n",
    "\n",
    "\n",
    "#Treatment Years\n",
    "df_acs_08 = pd.read_csv('ACS_08_1YR_S0501_with_ann.csv', encoding='ISO-8859-1')\n",
    "df_acs_08.drop(df_acs_08.index[0], inplace=True)\n",
    "df_acs_08 = df_acs_08.add_suffix('_2008')\n",
    "df_acs_08.drop(['GEO.id_2008','GEO.display-label_2008'], axis = 1, inplace = True)\n",
    "\n",
    "df_acs_09 = pd.read_csv('ACS_09_1YR_S0501_with_ann.csv', encoding='ISO-8859-1')\n",
    "df_acs_09.drop(df_acs_09.index[0], inplace=True)\n",
    "df_acs_09 = df_acs_09.add_suffix('_2009')\n",
    "df_acs_09.drop(['GEO.id_2009','GEO.display-label_2009'], axis = 1, inplace = True)\n",
    "\n",
    "df_acs_10 = pd.read_csv('ACS_10_1YR_S0501_with_ann.csv', encoding='ISO-8859-1')\n",
    "df_acs_10.drop(df_acs_10.index[0], inplace=True)\n",
    "df_acs_10 = df_acs_10.add_suffix('_2010')\n",
    "df_acs_10.drop(['GEO.id_2010','GEO.display-label_2010'], axis = 1, inplace = True)\n",
    "\n",
    "\n",
    "df_acs_06 = df_acs_06.rename(columns={'GEO.id2_2006': 'FIPS'})\n",
    "df_acs_07 = df_acs_07.rename(columns={'GEO.id2_2007': 'FIPS'})\n",
    "df_acs_08 = df_acs_08.rename(columns={'GEO.id2_2008': 'FIPS'})\n",
    "df_acs_09 = df_acs_09.rename(columns={'GEO.id2_2009': 'FIPS'})\n",
    "df_acs_10 = df_acs_10.rename(columns={'GEO.id2_2010': 'FIPS'})\n",
    "\n",
    "\n",
    "df_zhvi = pd.read_csv('County/County_Zhvi_AllHomes.csv', encoding='ISO-8859-1') # zillow zhvi data\n",
    "\n",
    "df_zhvi\n",
    "\n",
    "df_zhvi['StateCodeFIPS'] = df_zhvi['StateCodeFIPS'].apply(lambda x: str(x).zfill(2))\n",
    "df_zhvi['MunicipalCodeFIPS'] = df_zhvi['MunicipalCodeFIPS'].apply(lambda x: str(x).zfill(3))\n",
    "df_zhvi['FIPS'] = df_zhvi['StateCodeFIPS'] + df_zhvi['MunicipalCodeFIPS']\n",
    "\n",
    "ZHVI_2006 = df_zhvi.loc[: , \"2006-01\":\"2006-12\"]\n",
    "df_zhvi['ZHVI_mean_2006'] = ZHVI_2006.mean(axis=1)\n",
    "\n",
    "ZHVI_2007 = df_zhvi.loc[: , \"2007-01\":\"2007-12\"]\n",
    "df_zhvi['ZHVI_mean_2007'] = ZHVI_2007.mean(axis=1)\n",
    "\n",
    "ZHVI_2008 = df_zhvi.loc[: , \"2008-01\":\"2008-12\"]\n",
    "df_zhvi['ZHVI_mean_2008'] = ZHVI_2008.mean(axis=1)\n",
    "\n",
    "ZHVI_2009 = df_zhvi.loc[: , \"2009-01\":\"2009-12\"]\n",
    "df_zhvi['ZHVI_mean_2009'] = ZHVI_2009.mean(axis=1)\n",
    "\n",
    "ZHVI_2010 = df_zhvi.loc[: , \"2010-01\":\"2010-12\"]\n",
    "df_zhvi['ZHVI_mean_2010'] = ZHVI_2010.mean(axis=1)\n",
    "\n",
    "\n",
    "df_zhvi_clean = df_zhvi[['RegionID', 'RegionName','State','Metro','FIPS','ZHVI_mean_2006','ZHVI_mean_2007','ZHVI_mean_2008','ZHVI_mean_2009','ZHVI_mean_2010']]\n",
    "\n",
    "df_zhvi_clean\n",
    "\n",
    "\n",
    "\n",
    "df_acs_allyears = pd.merge(df_acs_06, df_acs_07, on=['FIPS'])\n",
    "df_acs_allyears = pd.merge(df_acs_allyears, df_acs_08, on=['FIPS'])\n",
    "df_acs_allyears = pd.merge(df_acs_allyears, df_acs_09, on=['FIPS'])\n",
    "df_acs_allyears = pd.merge(df_acs_allyears, df_acs_10, on=['FIPS'])\n",
    "\n",
    "df_merged = pd.merge(df_zhvi_clean, df_acs_allyears, on=['FIPS'])\n",
    "\n",
    "df_merged\n"
   ]
  },
  {
   "cell_type": "markdown",
   "metadata": {
    "collapsed": true
   },
   "source": [
    "<div class=\"alert alert-block alert-warning\">\n",
    "Q3: Discuss the similarities and differences between the empirical strategy you used to \n",
    "    identify causal impact of unemployment on prices with the approach that was suggested to \n",
    "    be used to estimate the average treatment effect in Donald Rubin's \n",
    "    \"Causal inference using potential outcomes: Design, modeling, decisions.\" \n",
    "    Journal of the American Statistical Association 100.469 (2005): 322-331. \n",
"</div>"
   ]
  },
  {
   "cell_type": "markdown",
   "metadata": {},
   "source": [
    "<div class=\"alert alert-block alert-info\"> The strategy we used to identify causal impact presented similarities between Rubin's study. Both our strategies utilized the concept of direct and indirect causal effects. For our study, we determined unemployment to be the direct casual effect on housing prices, and also noted a number of indirect effects on the prices as well. These included retirement rates, level of education, and immigration levels. These indirect factors in fact had a domino effect on the housing prices as a whole. For instance, a large percentage of baby boomers failed to retire at the traditional retirement age in the mid-2000s. The effects of their decisions rippled down, with middle aged and other adults not rising in the ranks of industry as a result. Younger adults fresh out of college were less likely to find openings, and remained unemployed. This contributed to an increase in the unemployment rate on a large scale. Thus, this indirect effect ended up having a direct effect on unemployment. \n", 
    "<br>"
   "In addition, Rubin's study perceived outcomes as a function of the factors of causation. This is similar to how we constructed our analysis, with housing prices a result of our regression involving multiple effects we believed to initiate a causality.  \n",
"<br>"
    "However, differences were also present between our two strategies. Principles of scientific experiment suggest that true causation can only be used on a random sample. Rubin's study hit all of the necessary requirements for causation, and used random sampling throughout experimentation. Our empirical strategy only utilized data we already had access to, and was not a random sample. Thus, the strategy we used is theoretically not guaranteed to be unbiased and has a higher chance of being subject to other outside factors beyond our control and influencing the results. \n",
    "</div>"
   ]
  },
  {
   "cell_type": "code",
   "execution_count": null,
   "metadata": {},
   "outputs": [],
   "source": []
  }
 ],
 "metadata": {
  "kernelspec": {
   "display_name": "Python 3",
   "language": "python",
   "name": "python3"
  },
  "language_info": {
   "codemirror_mode": {
    "name": "ipython",
    "version": 3
   },
   "file_extension": ".py",
   "mimetype": "text/x-python",
   "name": "python",
   "nbconvert_exporter": "python",
   "pygments_lexer": "ipython3",
   "version": "3.7.1"
  }
 },
 "nbformat": 4,
 "nbformat_minor": 2
}
